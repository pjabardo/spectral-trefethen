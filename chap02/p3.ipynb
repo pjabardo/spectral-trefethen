{
 "cells": [
  {
   "cell_type": "markdown",
   "metadata": {},
   "source": [
    "# Program 3"
   ]
  },
  {
   "cell_type": "code",
   "execution_count": null,
   "metadata": {},
   "outputs": [],
   "source": [
    "using Plots\n",
    "gr()"
   ]
  },
  {
   "cell_type": "code",
   "execution_count": null,
   "metadata": {},
   "outputs": [],
   "source": [
    "h = 1.0\n",
    "xmax = 10.0\n",
    "x = -xmax:h:xmax\n",
    "xx = (-xmax-h/200):h/100:(xmax+h/200)\n",
    "v1 = Float64.(x.==0)\n",
    "v2 = Float64.(abs.(x).<=3)\n",
    "v3 = max.(0, 1-abs.(x)/3)\n",
    "v = [v1, v2, v3]    \n",
    "p = Vector{Vector{Float64}}(3)\n",
    "\n",
    "for plt = 1:3\n",
    "    pp = zeros(length(xx))\n",
    "    vv = v[plt]\n",
    "    for i = 1:length(x)\n",
    "        pp .= pp .+ vv[i] * sinc.( (xx - x[i])/h )\n",
    "    end\n",
    "    p[plt] = pp\n",
    "end"
   ]
  },
  {
   "cell_type": "code",
   "execution_count": null,
   "metadata": {},
   "outputs": [],
   "source": [
    "function fun(plt)\n",
    "    myplt = scatter(x, v[plt])\n",
    "    plot!(xx, p[plt])\n",
    "    myplt\n",
    "end\n",
    "\n",
    "myplt = [fun(i) for i=1:3]\n",
    "plot(myplt..., layout=(3,1))"
   ]
  }
 ],
 "metadata": {
  "kernelspec": {
   "display_name": "Julia 0.6.2",
   "language": "julia",
   "name": "julia-0.6"
  },
  "language_info": {
   "file_extension": ".jl",
   "mimetype": "application/julia",
   "name": "julia",
   "version": "0.6.2"
  }
 },
 "nbformat": 4,
 "nbformat_minor": 2
}
