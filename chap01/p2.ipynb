{
 "cells": [
  {
   "cell_type": "markdown",
   "metadata": {},
   "source": [
    "# Chapter 1, program 2"
   ]
  },
  {
   "cell_type": "code",
   "execution_count": null,
   "metadata": {},
   "outputs": [],
   "source": [
    "using Plots\n",
    "gr()"
   ]
  },
  {
   "cell_type": "code",
   "execution_count": null,
   "metadata": {},
   "outputs": [],
   "source": [
    "using ToeplitzMatrices"
   ]
  },
  {
   "cell_type": "code",
   "execution_count": null,
   "metadata": {},
   "outputs": [],
   "source": [
    "fun(x) = exp(sin(x))\n",
    "dfun(x) = cos(x)*fun(x)"
   ]
  },
  {
   "cell_type": "code",
   "execution_count": null,
   "metadata": {},
   "outputs": [],
   "source": [
    "function spectraldifferr(N, fun, dfun)\n",
    "    h = 2π/N\n",
    "    x = -π + (1:N)*h\n",
    "\n",
    "    u = fun.(x)\n",
    "    du = dfun.(x)\n",
    "    idx = 1:(N-1)\n",
    "    column = [0.0;  (-1).^idx .* 0.5 .* cot.(idx*h/2)]\n",
    "    D = Toeplitz(column, -column)\n",
    "    \n",
    "    err = norm(D*u - du, Inf)\n",
    "    return err\n",
    "end"
   ]
  },
  {
   "cell_type": "code",
   "execution_count": null,
   "metadata": {},
   "outputs": [],
   "source": [
    "N = 2:2:100\n",
    "err = [spectraldifferr(n, fun, dfun) for n in N]\n",
    "\n",
    "scatter(N, err, yaxis=:log10, xaxis=:log10, marker=3, label=\"Error\")\n",
    "\n"
   ]
  }
 ],
 "metadata": {
  "kernelspec": {
   "display_name": "Julia 0.6.2",
   "language": "julia",
   "name": "julia-0.6"
  },
  "language_info": {
   "file_extension": ".jl",
   "mimetype": "application/julia",
   "name": "julia",
   "version": "0.6.2"
  }
 },
 "nbformat": 4,
 "nbformat_minor": 2
}
