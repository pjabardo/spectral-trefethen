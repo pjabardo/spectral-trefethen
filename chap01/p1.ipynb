{
 "cells": [
  {
   "cell_type": "markdown",
   "metadata": {},
   "source": [
    "# Chapter 1 - Differentiation Matrices"
   ]
  },
  {
   "cell_type": "code",
   "execution_count": null,
   "metadata": {},
   "outputs": [],
   "source": [
    "using Plots\n",
    "gr()"
   ]
  },
  {
   "cell_type": "markdown",
   "metadata": {},
   "source": [
    "## Program 1"
   ]
  },
  {
   "cell_type": "code",
   "execution_count": null,
   "metadata": {},
   "outputs": [],
   "source": [
    "function diffmaterr(N, fun, dfun, xlims=(-π, π))\n",
    "    L = xlims[2] - xlims[1]\n",
    "    \n",
    "    h = L / N\n",
    "    x = xlims[1] + (1:N)*h\n",
    "    \n",
    "    u = fun.(x)\n",
    "    du = dfun.(x)\n",
    "    \n",
    "    e = ones(N)\n",
    "    \n",
    "    D1 = sparse(1:N, [2:N; 1], 2*e/3, N, N) - \n",
    "         sparse(1:N, [3:N; 1; 2], e/12, N, N)\n",
    "    D = (D1 - D1') / h\n",
    "    \n",
    "    err = norm(D*u - du, Inf)\n",
    "    \n",
    "    return err\n",
    "end\n",
    "\n",
    "\n",
    "    "
   ]
  },
  {
   "cell_type": "code",
   "execution_count": null,
   "metadata": {},
   "outputs": [],
   "source": [
    "fun(x) = exp(sin(x))\n",
    "dfun(x) = cos(x) * fun(x)"
   ]
  },
  {
   "cell_type": "code",
   "execution_count": null,
   "metadata": {},
   "outputs": [],
   "source": [
    "Nvec = 2 .^(3:12)"
   ]
  },
  {
   "cell_type": "code",
   "execution_count": null,
   "metadata": {},
   "outputs": [],
   "source": [
    "err = diffmaterr.(Nvec, fun, dfun)"
   ]
  },
  {
   "cell_type": "code",
   "execution_count": null,
   "metadata": {},
   "outputs": [],
   "source": [
    "scatter(Nvec, err, yaxis=:log10, xaxis=:log10, marker=5, label=\"Error\")\n",
    "plot!(Nvec, (1.0*Nvec).^(-4), label=\"N^(-4)\")\n"
   ]
  },
  {
   "cell_type": "code",
   "execution_count": null,
   "metadata": {},
   "outputs": [],
   "source": [
    "using Polynomials"
   ]
  },
  {
   "cell_type": "code",
   "execution_count": null,
   "metadata": {},
   "outputs": [],
   "source": [
    "function lagrangei(i, N)\n",
    "    \n",
    "    den = 1\n",
    "    xn = zeros(Rational{Int}, N-1)\n",
    "    x = 0:(N-1)\n",
    "    j = 1\n",
    "    for k = 1:(i-1)\n",
    "        xn[j] = x[k]  \n",
    "        den = den * (x[i] - x[k])\n",
    "        j += 1\n",
    "    end\n",
    "    for k = (i+1):N\n",
    "        xn[j] = x[k]\n",
    "        den = den * (x[i] - x[k])\n",
    "        j += 1\n",
    "    end\n",
    "    \n",
    "    p = poly(xn)\n",
    "    return p/den\n",
    "end\n",
    "\n",
    "\n",
    "function dercoefs(N)\n",
    "    \n",
    "   \n",
    "    pd = [polyder(lagrangei(i,N)) for i = 1:N]\n",
    "    D = zeros(Rational{Int}, N,N)\n",
    "    x = 0:(N-1)\n",
    "    for j = 1:N\n",
    "        for i = 1:N\n",
    "            D[j,i] = polyval(pd[i], x[j])\n",
    "        end\n",
    "    end\n",
    "    return D \n",
    "end    \n",
    "\n"
   ]
  },
  {
   "cell_type": "code",
   "execution_count": null,
   "metadata": {},
   "outputs": [],
   "source": [
    "lagrangei(1,5)"
   ]
  },
  {
   "cell_type": "code",
   "execution_count": null,
   "metadata": {},
   "outputs": [],
   "source": [
    "dercoefs(7)[4,:]"
   ]
  },
  {
   "cell_type": "code",
   "execution_count": null,
   "metadata": {},
   "outputs": [],
   "source": [
    "function diffmat(N, P, h=1.0)#, xlims=(-π, π))\n",
    "    nsten = P÷2\n",
    "    icen = nsten+1\n",
    "    Dloc = Float64.(dercoefs(P)[icen,:])\n",
    "    o = ones(N)/h\n",
    "    D = sparse(1:N, 1:N, ones(N)*Dloc[icen], N, N)\n",
    "\n",
    "    for i = 1:nsten\n",
    "        J1 = [(i+1):N; 1:i]\n",
    "        D = D + sparse(1:N, J1, o*Dloc[icen+i], N, N)\n",
    "        J2 = [(N-i+1):N; 1:(N-i)]\n",
    "        D = D + sparse(1:N, J2, o*Dloc[icen-i], N, N)\n",
    "    end\n",
    "    return D\n",
    "end"
   ]
  },
  {
   "cell_type": "code",
   "execution_count": null,
   "metadata": {},
   "outputs": [],
   "source": [
    "diffmat(10, 3, 1.0)"
   ]
  },
  {
   "cell_type": "code",
   "execution_count": null,
   "metadata": {},
   "outputs": [],
   "source": [
    "function diffmaterr2(x, D, fun, dfun)\n",
    "    N = size(x,1)\n",
    "        \n",
    "    u = fun.(x)\n",
    "    du = dfun.(x)\n",
    "    \n",
    "    err = norm(D*u - du, Inf)\n",
    "    \n",
    "    return err\n",
    "end\n"
   ]
  },
  {
   "cell_type": "code",
   "execution_count": null,
   "metadata": {},
   "outputs": [],
   "source": [
    "Nvec2 = 2 .^(4:16)\n",
    "n = length(Nvec2)\n",
    "err2 = zeros(n)\n",
    "\n",
    "xmin = -π\n",
    "xmax = π\n",
    "L = xmax - xmin\n",
    "    \n",
    "\n",
    "P = 5\n",
    "for i = 1:n\n",
    "    N = Nvec2[i]\n",
    "    h = L / N\n",
    "    x = xmin + (1:N)*h\n",
    "    D = diffmat(N, P, h)\n",
    "    err2[i] = diffmaterr2(x, D, fun, dfun)\n",
    "end\n",
    "\n",
    "scatter(Nvec2, err2, yaxis=:log10, xaxis=:log10, marker=5, label=\"Error\")\n",
    "plot!(Nvec2, (1.0*Nvec2).^(-(P-1)), label=string(P-1))\n"
   ]
  },
  {
   "cell_type": "code",
   "execution_count": null,
   "metadata": {},
   "outputs": [],
   "source": []
  }
 ],
 "metadata": {
  "kernelspec": {
   "display_name": "Julia 0.6.2",
   "language": "julia",
   "name": "julia-0.6"
  },
  "language_info": {
   "file_extension": ".jl",
   "mimetype": "application/julia",
   "name": "julia",
   "version": "0.6.2"
  }
 },
 "nbformat": 4,
 "nbformat_minor": 2
}
